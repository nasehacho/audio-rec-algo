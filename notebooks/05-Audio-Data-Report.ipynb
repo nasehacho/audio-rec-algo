{
 "cells": [
  {
   "cell_type": "markdown",
   "metadata": {},
   "source": [
    "## 1. Which insights did you gain from your EDA? Were any columns highly correlated? If so, name them.\n",
    "\n",
    "From the EDA it could be seen that fortunately there were no null values to drop from the dataset. From the correlation matrix, it could be seen that the 'loudness' and 'energy' columns had some of the highest correlation with each other in the entire dataset. "
   ]
  },
  {
   "cell_type": "markdown",
   "metadata": {},
   "source": [
    "## 2. How did you determine which columns to drop or keep? If your EDA informed this process, explain which insights you used to determine which columns were not needed.\n",
    "\n",
    "It was necessary to drop columns that were either non-numerical or did not show any significant patterns for further analysis. Columns like \"Unnamed:0\" was an example of this as it only served as an index for the data and nothing more for a machine learning model. "
   ]
  },
  {
   "cell_type": "markdown",
   "metadata": {},
   "source": [
    "## 3. What was the optimal number of clusters in your cluster model? Explain how you determined this value.\n",
    "\n"
   ]
  },
  {
   "cell_type": "markdown",
   "metadata": {},
   "source": [
    "## 4. Take a look at the respective songs that fell into your clusters. Describe these clusters in human terms to the best of your ability using the columns in your dataset (for example high-gospel songs, low-gospel songs, etc). Feel free to listen to these songs as well to get a sense of what nuance your algorithm picked up on.\n",
    "\n"
   ]
  },
  {
   "cell_type": "markdown",
   "metadata": {},
   "source": [
    "## 5. Take a look at the clusters that your algorithm assigned to your test samples. Based on these clusters, which songs would you recommend to this user?\n",
    "\n"
   ]
  }
 ],
 "metadata": {
  "language_info": {
   "name": "python"
  }
 },
 "nbformat": 4,
 "nbformat_minor": 2
}
